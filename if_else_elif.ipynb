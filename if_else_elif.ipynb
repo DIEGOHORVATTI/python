{
  "cells": [
    {
      "attachments": {},
      "cell_type": "markdown",
      "metadata": {},
      "source": [
        "Operador\tConceito\t          Exemplo\n",
        "\n",
        "'>'         (Maior que)\t        Verifica se um valor é maior que outro\tx > 5\n",
        "\n",
        "'<'         (Menor que)\t        Verifica se um valor é menor que outro\tx < 5\n",
        "\n",
        "'=='        (Igual a)\t          Verifica se um valor é igual a outro\tx == 5\n",
        "\n",
        "'!='        (Diferente de)      Verifica se um valor é diferente de outro\tx != 5\n",
        "\n",
        "'>='        (Maior ou igual a)\tVerifica se um valor é maior ou igual a outro\tx >= 5\n",
        "\n",
        "'<='        (Menor ou igual a)\tVerifica se um valor é menor ou igual a outro\tx <= 5\n",
        "\n",
        "Operador\tConceito\n",
        "\n",
        "or        (ou)\n",
        "\n",
        "and       (e)"
      ]
    },
    {
      "cell_type": "code",
      "execution_count": 3,
      "metadata": {},
      "outputs": [
        {
          "name": "stdout",
          "output_type": "stream",
          "text": [
            " Menor\n",
            "\n"
          ]
        }
      ],
      "source": [
        "teclado = input(\"\\n Digite um número: \")\n",
        "\n",
        "if int(teclado) == 2:\n",
        "  print(\" Iqual\\n\")\n",
        "elif int(teclado) > 2:\n",
        "  print(\" Maior\\n\")\n",
        "else:\n",
        "  print(\" Menor\\n\")"
      ]
    }
  ],
  "metadata": {
    "kernelspec": {
      "display_name": "Python 3",
      "language": "python",
      "name": "python3"
    },
    "language_info": {
      "codemirror_mode": {
        "name": "ipython",
        "version": 3
      },
      "file_extension": ".py",
      "mimetype": "text/x-python",
      "name": "python",
      "nbconvert_exporter": "python",
      "pygments_lexer": "ipython3",
      "version": "3.9.13"
    },
    "vscode": {
      "interpreter": {
        "hash": "3067ead486e059ec00ffe7555bdb889e6e264a24dc711bf108106cc7baee8d5d"
      }
    }
  },
  "nbformat": 4,
  "nbformat_minor": 2
}
