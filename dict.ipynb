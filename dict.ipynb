{
  "cells": [
    {
      "cell_type": "code",
      "execution_count": 1,
      "metadata": {},
      "outputs": [
        {
          "name": "stdout",
          "output_type": "stream",
          "text": [
            "Naruto\n",
            "\n",
            " {'Eiichiro oda': 'One Piece', 'Masashi kishimoto': 'Boruto', 'Turtleme': 'The Beginning After The End', 'Kentaro Miura': 'Berserk'} \n",
            "\n",
            "Eiichiro oda : One Piece\n",
            "Masashi kishimoto : Boruto\n",
            "Turtleme : The Beginning After The End\n",
            "Kentaro Miura : Berserk\n",
            "\n",
            "\n",
            "Eiichiro oda : One Piece\n",
            "Masashi kishimoto : Boruto\n",
            "Turtleme : The Beginning After The End\n",
            "Kentaro Miura : Berserk\n",
            "\n",
            " {'Naruto': 1999, 'Boruto': 2015} \n",
            "\n",
            "\n",
            " Naruto : 1999 \n",
            "\n",
            "<class 'dict'> : {'L_1': {1: 'a'}, 'L_2': {2: 'b'}, 'L_3': {3: 'c'}}\n"
          ]
        }
      ],
      "source": [
        "mangakas = {\n",
        "  \"Eiichiro oda\": \"One Piece\",\n",
        "  \"Masashi kishimoto\" : \"Naruto\",\n",
        "  \"Turtleme\" : \"The Beginning After The End\"\n",
        "}\n",
        "\n",
        "mangakas[\"Kentaro Miura\"] = \"Berserk\"\n",
        "\n",
        "print(mangakas[\"Masashi kishimoto\"]) #print(mangakas.get(\"Masashi kishimoto\"))\n",
        "\n",
        "mangakas[\"Masashi kishimoto\"] = \"Boruto\"\n",
        "\n",
        "print(\"\\n\", mangakas, \"\\n\")\n",
        "\n",
        "for x in mangakas:\n",
        "  print(x, \":\", mangakas[x])   # chave, valor\n",
        "print(\"\\n\")\n",
        "\n",
        "for c,v in mangakas.items():\n",
        "  print(c, \":\", v)   # chave, valor\n",
        "\n",
        "mangakas = {\n",
        "  \"Eiichiro oda\":{\n",
        "    \"Naruto\": 1999,\n",
        "    \"Boruto\": 2015\n",
        "  }\n",
        "}\n",
        "\n",
        "print(\"\\n\", mangakas[\"Eiichiro oda\"], \"\\n\")\n",
        "print(\n",
        "  \"\\n\", \n",
        "  list(mangakas[\"Eiichiro oda\"].keys())[ \n",
        "    (list(mangakas[\"Eiichiro oda\"].values()).index(1999)) \n",
        "  ],\n",
        "  \":\", \n",
        "  mangakas[\"Eiichiro oda\"][\"Naruto\"], \n",
        "  \"\\n\"\n",
        ")\n",
        "\n",
        "letra_1 = { 1:\"a\" }\n",
        "\n",
        "letra_2 = { 2: \"b\" }\n",
        "\n",
        "letra_3 = { 3: \"c\" }\n",
        "\n",
        "letras = {\n",
        "  \"L_1\": letra_1,\n",
        "  \"L_2\": letra_2,\n",
        "  \"L_3\": letra_3\n",
        "}\n",
        "\n",
        "print(type(letras), \":\" ,letras)"
      ]
    }
  ],
  "metadata": {
    "kernelspec": {
      "display_name": "Python 3",
      "language": "python",
      "name": "python3"
    },
    "language_info": {
      "codemirror_mode": {
        "name": "ipython",
        "version": 3
      },
      "file_extension": ".py",
      "mimetype": "text/x-python",
      "name": "python",
      "nbconvert_exporter": "python",
      "pygments_lexer": "ipython3",
      "version": "3.9.13"
    },
    "vscode": {
      "interpreter": {
        "hash": "3067ead486e059ec00ffe7555bdb889e6e264a24dc711bf108106cc7baee8d5d"
      }
    }
  },
  "nbformat": 4,
  "nbformat_minor": 2
}
