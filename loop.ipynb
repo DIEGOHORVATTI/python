{
  "cells": [
    {
      "cell_type": "code",
      "execution_count": 1,
      "metadata": {},
      "outputs": [
        {
          "name": "stdout",
          "output_type": "stream",
          "text": [
            "\u001b[H\u001b[2JLuffy\n",
            "Zoro\n",
            "Usoop\n",
            "Nami\n",
            "Robin\n",
            "\n",
            "\n",
            "Luffy\n",
            "Zoro\n",
            "Usoop\n",
            "Nami\n",
            "Robin\n"
          ]
        }
      ],
      "source": [
        "import os\n",
        "os.system('clear')\n",
        "\n",
        "onePiece = [\"Luffy\", \"Zoro\", \"Usoop\", \"Nami\", \"Robin\"]\n",
        "\n",
        "for x in onePiece:\n",
        "  print(x)\n",
        "print('\\n')\n",
        "\n",
        "x = 0\n",
        "while x < len(onePiece):\n",
        "  print(onePiece[x])\n",
        "  x += 1\n"
      ]
    }
  ],
  "metadata": {
    "kernelspec": {
      "display_name": "Python 3",
      "language": "python",
      "name": "python3"
    },
    "language_info": {
      "codemirror_mode": {
        "name": "ipython",
        "version": 3
      },
      "file_extension": ".py",
      "mimetype": "text/x-python",
      "name": "python",
      "nbconvert_exporter": "python",
      "pygments_lexer": "ipython3",
      "version": "3.11.1 (main, Dec 23 2022, 09:40:52) [Clang 13.0.0 (clang-1300.0.29.30)]"
    },
    "vscode": {
      "interpreter": {
        "hash": "1a1af0ee75eeea9e2e1ee996c87e7a2b11a0bebd85af04bb136d915cefc0abce"
      }
    }
  },
  "nbformat": 4,
  "nbformat_minor": 2
}
