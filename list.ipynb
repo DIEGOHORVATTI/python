{
  "cells": [
    {
      "cell_type": "code",
      "execution_count": 1,
      "metadata": {},
      "outputs": [
        {
          "name": "stdout",
          "output_type": "stream",
          "text": [
            "['Luffy', 'Zoro', 'Nami', 'Robin', 'Brook', 'Sanji', 'Choop', 'Frank'] 8 <class 'list'>\n",
            "Luffy\n",
            "Zoro\n",
            "Nami\n",
            "Robin\n",
            "Brook\n",
            "Sanji\n",
            "Choop\n",
            "Frank\n",
            "\n",
            "\n",
            "['Luffy', 'Zoro', 'Nami', 'Robin', 'Brook', 'Sanji', 'Choop', 'Frank', 'naruto', 'sasuke', 'hinata', 'kakashi'] 12 <class 'list'>\n",
            "Luffy\n",
            "Zoro\n",
            "Nami\n",
            "Robin\n",
            "Brook\n",
            "Sanji\n",
            "Choop\n",
            "Frank\n",
            "naruto\n",
            "sasuke\n",
            "hinata\n",
            "kakashi\n"
          ]
        }
      ],
      "source": [
        "onePiece = [\"Luffy\", \"Zoro\", \"Usoop\", \"Nami\", \"Robin\"]\n",
        "onePiece.append(\"Brook\")\n",
        "onePiece.append(\"Sanji\")\n",
        "onePiece.append(\"Choop\")\n",
        "onePiece.append(\"Jinbe\")\n",
        "onePiece.append(\"Frank\")\n",
        "onePiece.append(\"Oden\")\n",
        "\n",
        "onePiece.remove(\"Jinbe\") # remover elemento por id\n",
        "onePiece.pop()           # remover ultimo elemento\n",
        "del onePiece[2]          # remover por indezação\n",
        "# onePiece.clear()\n",
        "\n",
        "eiichiroOda = list(onePiece) # passar lista para outra variável\n",
        "naruto = [\"naruto\", \"sasuke\", \"hinata\", \"kakashi\"]\n",
        "\n",
        "# juntar lista\n",
        "shonnenJump = onePiece+naruto\n",
        "\n",
        "print(eiichiroOda, len(eiichiroOda), type(eiichiroOda))\n",
        "for x in eiichiroOda:\n",
        "  print(x)\n",
        "print(\"\\n\")\n",
        "\n",
        "print(shonnenJump, len(shonnenJump), type(shonnenJump))\n",
        "for x in shonnenJump:\n",
        "  print(x)"
      ]
    }
  ],
  "metadata": {
    "kernelspec": {
      "display_name": "Python 3",
      "language": "python",
      "name": "python3"
    },
    "language_info": {
      "codemirror_mode": {
        "name": "ipython",
        "version": 3
      },
      "file_extension": ".py",
      "mimetype": "text/x-python",
      "name": "python",
      "nbconvert_exporter": "python",
      "pygments_lexer": "ipython3",
      "version": "3.9.13"
    },
    "vscode": {
      "interpreter": {
        "hash": "3067ead486e059ec00ffe7555bdb889e6e264a24dc711bf108106cc7baee8d5d"
      }
    }
  },
  "nbformat": 4,
  "nbformat_minor": 2
}
