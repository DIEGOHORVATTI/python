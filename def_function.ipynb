{
  "cells": [
    {
      "cell_type": "code",
      "execution_count": 1,
      "metadata": {},
      "outputs": [
        {
          "name": "stdout",
          "output_type": "stream",
          "text": [
            "4\n",
            "\n",
            "\n",
            "22\n",
            "\n",
            "\n",
            "The seven legends\n",
            "Linux a biblia\n",
            "\n",
            " 4 \n",
            "\n",
            "\n",
            " 20 \n",
            "\n",
            " 2\n",
            "\n",
            " 7\n"
          ]
        }
      ],
      "source": [
        "# parametros referencia\n",
        "def soma(x, y):\n",
        "  print(int(x+y))\n",
        "\n",
        "soma(2, 2)\n",
        "print(\"\\n\")\n",
        "\n",
        "# parametros abtrarios\n",
        "def soma(*x):\n",
        "  cache=0\n",
        "  for y in x: \n",
        "    y += cache\n",
        "    cache=y\n",
        "  print(int(y))\n",
        "soma(2, 10, 10)\n",
        "print(\"\\n\")\n",
        "\n",
        "# parametros defult\n",
        "def livros(title=\"The seven legends\"):\n",
        "  print(title)\n",
        "livros()\n",
        "livros(\"Linux a biblia\")\n",
        "\n",
        "# parametros referencia\n",
        "def soma(x, y):\n",
        "  return(int(x+y))\n",
        "print(\"\\n\", soma(2, 2), \"\\n\")\n",
        "\n",
        "# função anônima \n",
        "soma = lambda x,y : x+y\n",
        "print(\"\\n\", soma(10, 10), \"\\n\\n\", ((lambda x,y : x-y)(4, 2)) )\n",
        "\n",
        "r = lambda x,func : (x+func(x))\n",
        "res = r(2, lambda x:x+3)\n",
        "print(\"\\n\", res)"
      ]
    }
  ],
  "metadata": {
    "kernelspec": {
      "display_name": "Python 3",
      "language": "python",
      "name": "python3"
    },
    "language_info": {
      "codemirror_mode": {
        "name": "ipython",
        "version": 3
      },
      "file_extension": ".py",
      "mimetype": "text/x-python",
      "name": "python",
      "nbconvert_exporter": "python",
      "pygments_lexer": "ipython3",
      "version": "3.9.13"
    },
    "vscode": {
      "interpreter": {
        "hash": "3067ead486e059ec00ffe7555bdb889e6e264a24dc711bf108106cc7baee8d5d"
      }
    }
  },
  "nbformat": 4,
  "nbformat_minor": 2
}
