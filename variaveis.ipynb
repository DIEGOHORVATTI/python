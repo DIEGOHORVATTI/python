{
  "cells": [
    {
      "attachments": {},
      "cell_type": "markdown",
      "metadata": {},
      "source": [
        "Tipos de dados | fim de linha"
      ]
    },
    {
      "cell_type": "code",
      "execution_count": 1,
      "metadata": {},
      "outputs": [
        {
          "name": "stdout",
          "output_type": "stream",
          "text": [
            "0\n",
            "1\n",
            "2\n",
            "1.2\n",
            "\n",
            "\n",
            "2.0\n",
            "8.0\n",
            "\n",
            "\n",
            "Giorno Giovanna\n",
            "Funny Valentine\n",
            "Jotaro Kujo\n",
            "\n",
            "\n",
            "Giorno Giovanna\n",
            "Funny Valentine\n",
            "Jotaro Kujo\n",
            "\n",
            "\n",
            "10\n",
            "11\n",
            "12\n",
            "13\n",
            "14\n",
            "15\n",
            "16\n",
            "17\n",
            "18\n",
            "19\n",
            "\n",
            "\n",
            "<class 'dict'>\n",
            "{'Eiichiro oda': 'One Piece', 'Masashi kishimoto': 'Naruto', 'Turtleme': 'The Beginning After The End'}\n",
            "One Piece\n",
            "\n",
            "\n",
            "frozenset({8, 9, 3, 4})\n",
            "\n",
            "\n"
          ]
        }
      ],
      "source": [
        "from os import system\n",
        "\n",
        "\n",
        "quatro=cinco=seis=sete=0\n",
        "print(quatro)\n",
        "\n",
        "um = 1;           # ineteiro\n",
        "print(um) \n",
        "dois = \"2\"        # caracter/string\n",
        "print(dois) \n",
        "\n",
        "umDois = 1.2      # bollean\n",
        "print(umDois)\n",
        "\n",
        "print(\"\\n\")\n",
        "dadosAbstrato = complex(2, 8)\n",
        "print(dadosAbstrato.real)     # parte real\n",
        "print(dadosAbstrato.imag)     # parte imaginaria\n",
        "print(\"\\n\")\n",
        "\n",
        "# array, list, vetor\n",
        "personagensJojo = [\"Giorno Giovanna\", \"Funny Valentine\", \"Jotaro Kujo\"]\n",
        "for x in personagensJojo: \n",
        "  print(x)\n",
        "print(\"\\n\")\n",
        "\n",
        "# Tupla, constvetor\n",
        "personagensJojo = (\"Giorno Giovanna\", \"Funny Valentine\", \"Jotaro Kujo\")\n",
        "for x in personagensJojo:\n",
        "  print(x)\n",
        "print(\"\\n\")\n",
        "\n",
        "# lista altomática\n",
        "y = range(10, 20, 1) #list 10 á 20 1 á 1\n",
        "for x in y:\n",
        "  print(x)\n",
        "print(\"\\n\")\n",
        "\n",
        "# Dict, dicionario\n",
        "artistas = {\n",
        "  \"Eiichiro oda\": \"One Piece\",\n",
        "  \"Masashi kishimoto\" : \"Naruto\",\n",
        "  \"Turtleme\" : \"The Beginning After The End\"\n",
        "}\n",
        "print(type(artistas))\n",
        "print(artistas)\n",
        "print(artistas[\"Eiichiro oda\"])\n",
        "print(\"\\n\")\n",
        "\n",
        "# set não imprime o mesmo numero\n",
        "kapa={4,8,9,3,4,8} # set desbloqueado\n",
        "kapa = frozenset({4, 8, 9, 3, 4, 8})  # set bloqueado\n",
        "print(kapa)\n",
        "print(\"\\n\")\n"
      ]
    },
    {
      "cell_type": "code",
      "execution_count": 2,
      "metadata": {},
      "outputs": [
        {
          "name": "stdout",
          "output_type": "stream",
          "text": [
            "1 2 1.2\n",
            "1 2 1.2\n",
            "a + b =  7\n",
            "a - b =  3\n",
            "a * b =  10\n",
            "a / b =  2.5\n",
            "pow(c) =  8\n",
            "Iqual a cinco\n"
          ]
        }
      ],
      "source": [
        "\"\"\" concatenação \"\"\"\n",
        "print(um, dois, umDois)\n",
        "print(str(um) + \" \" + str(dois) + \" \" + str(umDois))\n",
        "\n",
        "\"\"\" operadores aritiméticos \"\"\"\n",
        "a = 5\n",
        "b = 2\n",
        "c = pow(2, 3)\n",
        "print(\"a + b = \", a+b)\n",
        "print(\"a - b = \", a-b)\n",
        "print(\"a * b = \", a*b)\n",
        "print(\"a / b = \", a/b)\n",
        "print(\"pow(c) = \", c)\n",
        "\n",
        "\"\"\" Ler do teclado \"\"\"\n",
        "teclado = input(\"\\nDigite um numero: \")\n",
        "if int(teclado) == 0:\n",
        "  system(\"clear && python variaveis.py\")\n",
        "elif int(teclado) < 5:\n",
        "  print(\"Menor que cinco\")\n",
        "elif int(teclado) == 5:\n",
        "  print(\"Iqual a cinco\")\n",
        "else:\n",
        "  print(\"Maior que cinco\")"
      ]
    }
  ],
  "metadata": {
    "kernelspec": {
      "display_name": "Python 3",
      "language": "python",
      "name": "python3"
    },
    "language_info": {
      "codemirror_mode": {
        "name": "ipython",
        "version": 3
      },
      "file_extension": ".py",
      "mimetype": "text/x-python",
      "name": "python",
      "nbconvert_exporter": "python",
      "pygments_lexer": "ipython3",
      "version": "3.9.13"
    },
    "vscode": {
      "interpreter": {
        "hash": "3067ead486e059ec00ffe7555bdb889e6e264a24dc711bf108106cc7baee8d5d"
      }
    }
  },
  "nbformat": 4,
  "nbformat_minor": 2
}
