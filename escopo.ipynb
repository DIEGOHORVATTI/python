{
  "cells": [
    {
      "cell_type": "code",
      "execution_count": 1,
      "metadata": {},
      "outputs": [
        {
          "name": "stdout",
          "output_type": "stream",
          "text": [
            "Café com açucar?: Sim\n"
          ]
        }
      ],
      "source": [
        "num1=num2=0\n",
        "\n",
        "def coffe():\n",
        "  global acucar\n",
        "  acucar = True\n",
        "\n",
        "coffe()\n",
        "\n",
        "if acucar == True: acucar = \"Sim\"\n",
        "\n",
        "print(\"Café com açucar?:\", acucar)"
      ]
    }
  ],
  "metadata": {
    "kernelspec": {
      "display_name": "Python 3",
      "language": "python",
      "name": "python3"
    },
    "language_info": {
      "codemirror_mode": {
        "name": "ipython",
        "version": 3
      },
      "file_extension": ".py",
      "mimetype": "text/x-python",
      "name": "python",
      "nbconvert_exporter": "python",
      "pygments_lexer": "ipython3",
      "version": "3.9.13"
    },
    "vscode": {
      "interpreter": {
        "hash": "3067ead486e059ec00ffe7555bdb889e6e264a24dc711bf108106cc7baee8d5d"
      }
    }
  },
  "nbformat": 4,
  "nbformat_minor": 2
}
