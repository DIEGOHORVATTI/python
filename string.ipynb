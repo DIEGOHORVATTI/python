{
  "cells": [
    {
      "cell_type": "code",
      "execution_count": 2,
      "metadata": {},
      "outputs": [
        {
          "name": "stdout",
          "output_type": "stream",
          "text": [
            " Mó sono\n",
            "\n",
            "\n",
            "Mó sono\n",
            "\n",
            "\n",
            "mó sono\n",
            "\n",
            "\n",
            "MÓ SONO\n",
            "\n",
            "\n",
            "['Mó', 'sono']\n",
            "sono\n",
            "\n",
            "\n",
            "True \n",
            "\n",
            "Videira, 14, 8, 2021 \n",
            "\n"
          ]
        }
      ],
      "source": [
        "estado = \" Mó sono\"\n",
        "\n",
        "# imprimir posições da string\n",
        "print(estado[0:len(estado)]) \n",
        "print(\"\\n\")\n",
        "\n",
        "# remover espaços string\n",
        "print(estado.strip())\n",
        "print(\"\\n\")\n",
        "\n",
        "# string minuscula\n",
        "print(estado.lower().strip())\n",
        "print(\"\\n\")\n",
        "\n",
        "# string maiuscula\n",
        "print(estado.upper().strip())\n",
        "print(\"\\n\")\n",
        "\n",
        "# string separada em lista\n",
        "x = estado.strip().split(\" \")\n",
        "print( x )\n",
        "print( x[1] )\n",
        "print(\"\\n\")\n",
        "\n",
        "# verificar ocorrencia de palavra em string\n",
        "ocorrencia = \"sono\".upper() in estado.upper()\n",
        "print(ocorrencia, '\\n')\n",
        "\n",
        "# concatenação fácil\n",
        "city = \"Videira\"\n",
        "dia = 14\n",
        "mes = 8\n",
        "ano = 2021\n",
        "data = \"{}, {}, {}, {}\"\n",
        "print(data.format(city, dia, mes, ano), '\\n')\n"
      ]
    }
  ],
  "metadata": {
    "kernelspec": {
      "display_name": "Python 3",
      "language": "python",
      "name": "python3"
    },
    "language_info": {
      "codemirror_mode": {
        "name": "ipython",
        "version": 3
      },
      "file_extension": ".py",
      "mimetype": "text/x-python",
      "name": "python",
      "nbconvert_exporter": "python",
      "pygments_lexer": "ipython3",
      "version": "3.9.13"
    },
    "vscode": {
      "interpreter": {
        "hash": "3067ead486e059ec00ffe7555bdb889e6e264a24dc711bf108106cc7baee8d5d"
      }
    }
  },
  "nbformat": 4,
  "nbformat_minor": 2
}
