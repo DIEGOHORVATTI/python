{
  "cells": [
    {
      "cell_type": "code",
      "execution_count": 1,
      "metadata": {},
      "outputs": [
        {
          "name": "stdout",
          "output_type": "stream",
          "text": [
            "\n",
            " Tipo: <class 'list'> \n",
            " [['', '', '', '', ''], ['', '', '', '', '']]\n",
            "\n",
            " Tipo: <class 'list'> \n",
            " [['x', 'u', 'y', 's', 'a'], ['s', 'p', 'i', 'n', 'j']]\n",
            "x\n",
            "u\n",
            "y\n",
            "s\n",
            "a\n",
            "s\n",
            "p\n",
            "i\n",
            "n\n",
            "j\n"
          ]
        }
      ],
      "source": [
        "tam_j = 2\n",
        "tam_i = 5\n",
        "\n",
        "j=0\n",
        "while j < tam_j:\n",
        "  i=0\n",
        "  j += 1\n",
        "  while i < tam_i:\n",
        "    i += 1\n",
        "    matriz = [[\"\"]*i for _ in range(j)]\n",
        "\n",
        "print(\"\\n Tipo:\", type(matriz), \"\\n\", matriz)\n",
        "\n",
        "\"\"\"  \"\"\"\n",
        "\n",
        "letras = [\n",
        "  ['x', 'u', 'y', 's', 'a'], \n",
        "  ['s', 'p', 'i', 'n', 'j']\n",
        "]\n",
        "\n",
        "print(\"\\n Tipo:\", type(letras), \"\\n\", letras)\n",
        "\n",
        "j = 0\n",
        "while j < 2:\n",
        "  i = 0\n",
        "  while i < 5:\n",
        "    print(letras[j][i])\n",
        "    i += 1\n",
        "  j += 1"
      ]
    }
  ],
  "metadata": {
    "kernelspec": {
      "display_name": "Python 3",
      "language": "python",
      "name": "python3"
    },
    "language_info": {
      "codemirror_mode": {
        "name": "ipython",
        "version": 3
      },
      "file_extension": ".py",
      "mimetype": "text/x-python",
      "name": "python",
      "nbconvert_exporter": "python",
      "pygments_lexer": "ipython3",
      "version": "3.9.13"
    },
    "vscode": {
      "interpreter": {
        "hash": "3067ead486e059ec00ffe7555bdb889e6e264a24dc711bf108106cc7baee8d5d"
      }
    }
  },
  "nbformat": 4,
  "nbformat_minor": 2
}
