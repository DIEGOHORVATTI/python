{
  "cells": [
    {
      "cell_type": "code",
      "execution_count": null,
      "metadata": {},
      "outputs": [],
      "source": [
        "import os\n",
        "os.system('clear')\n",
        "\n",
        "num1 = float(5*10 ^ 3)/float(2.3*10 ^ 2)\n",
        "\n",
        "print('\\n' + num1)\n"
      ]
    }
  ],
  "metadata": {
    "kernelspec": {
      "display_name": "base",
      "language": "python",
      "name": "python3"
    },
    "language_info": {
      "codemirror_mode": {
        "name": "ipython",
        "version": 3
      },
      "file_extension": ".py",
      "mimetype": "text/x-python",
      "name": "python",
      "nbconvert_exporter": "python",
      "pygments_lexer": "ipython3",
      "version": "3.10.8"
    },
    "vscode": {
      "interpreter": {
        "hash": "a6939f3182b1f748499b9b6856cc266280babef9e1416a15e512e1c8d0d02c38"
      }
    }
  },
  "nbformat": 4,
  "nbformat_minor": 2
}
